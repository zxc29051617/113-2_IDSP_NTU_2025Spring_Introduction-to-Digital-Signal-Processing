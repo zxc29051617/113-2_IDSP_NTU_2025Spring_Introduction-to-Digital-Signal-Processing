{
  "nbformat": 4,
  "nbformat_minor": 0,
  "metadata": {
    "colab": {
      "provenance": []
    },
    "kernelspec": {
      "name": "python3",
      "display_name": "Python 3"
    },
    "language_info": {
      "name": "python"
    }
  },
  "cells": [
    {
      "cell_type": "code",
      "source": [
        "!pip install numpy scipy matplotlib pydub soundfile\n",
        "!pip install pydub --quiet\n",
        "!apt-get install ffmpeg -y --quiet\n",
        "import numpy as np, scipy.signal as sg, scipy.io.wavfile as wav\n",
        "from pydub import AudioSegment\n",
        "from google.colab import files\n",
        "import time, math, io"
      ],
      "metadata": {
        "id": "TwMUzXNlhKMS",
        "colab": {
          "base_uri": "https://localhost:8080/"
        },
        "outputId": "d68a8cf9-fcc6-4e5e-be9c-9529258caa8a"
      },
      "execution_count": 10,
      "outputs": [
        {
          "output_type": "stream",
          "name": "stdout",
          "text": [
            "Requirement already satisfied: numpy in /usr/local/lib/python3.11/dist-packages (2.0.2)\n",
            "Requirement already satisfied: scipy in /usr/local/lib/python3.11/dist-packages (1.15.3)\n",
            "Requirement already satisfied: matplotlib in /usr/local/lib/python3.11/dist-packages (3.10.0)\n",
            "Requirement already satisfied: pydub in /usr/local/lib/python3.11/dist-packages (0.25.1)\n",
            "Requirement already satisfied: soundfile in /usr/local/lib/python3.11/dist-packages (0.13.1)\n",
            "Requirement already satisfied: contourpy>=1.0.1 in /usr/local/lib/python3.11/dist-packages (from matplotlib) (1.3.2)\n",
            "Requirement already satisfied: cycler>=0.10 in /usr/local/lib/python3.11/dist-packages (from matplotlib) (0.12.1)\n",
            "Requirement already satisfied: fonttools>=4.22.0 in /usr/local/lib/python3.11/dist-packages (from matplotlib) (4.58.0)\n",
            "Requirement already satisfied: kiwisolver>=1.3.1 in /usr/local/lib/python3.11/dist-packages (from matplotlib) (1.4.8)\n",
            "Requirement already satisfied: packaging>=20.0 in /usr/local/lib/python3.11/dist-packages (from matplotlib) (24.2)\n",
            "Requirement already satisfied: pillow>=8 in /usr/local/lib/python3.11/dist-packages (from matplotlib) (11.2.1)\n",
            "Requirement already satisfied: pyparsing>=2.3.1 in /usr/local/lib/python3.11/dist-packages (from matplotlib) (3.2.3)\n",
            "Requirement already satisfied: python-dateutil>=2.7 in /usr/local/lib/python3.11/dist-packages (from matplotlib) (2.9.0.post0)\n",
            "Requirement already satisfied: cffi>=1.0 in /usr/local/lib/python3.11/dist-packages (from soundfile) (1.17.1)\n",
            "Requirement already satisfied: pycparser in /usr/local/lib/python3.11/dist-packages (from cffi>=1.0->soundfile) (2.22)\n",
            "Requirement already satisfied: six>=1.5 in /usr/local/lib/python3.11/dist-packages (from python-dateutil>=2.7->matplotlib) (1.17.0)\n",
            "Reading package lists...\n",
            "Building dependency tree...\n",
            "Reading state information...\n",
            "ffmpeg is already the newest version (7:4.4.2-0ubuntu0.22.04.1).\n",
            "0 upgraded, 0 newly installed, 0 to remove and 34 not upgraded.\n"
          ]
        }
      ]
    },
    {
      "cell_type": "code",
      "source": [
        "\"\"\"Implement the Overlapping-Add and Overlapping-Save algorithms in Python.\n",
        "Create Python functions (50%) overlap_add(x, h, L),  overlap_save(x, h, L)\n",
        "via circular convolution (using the FFT/IFFT for speedup)\"\"\"\n",
        "def nextpow2(n):\n",
        "    # 取得 >= n 的最小 2 的次方數（加速 FFT）\n",
        "    return 1 << (n-1).bit_length()\n",
        "\n",
        "def overlap_add(x, h, L):\n",
        "    M = len(h)\n",
        "    N = nextpow2(L + M - 1)\n",
        "    H = np.fft.rfft(h, N)\n",
        "    y = np.zeros(len(x) + M - 1, dtype=np.float32)\n",
        "\n",
        "    for k in range(0, len(x), L):\n",
        "        x_blk = x[k:k+L]\n",
        "        x_blk_pad = np.pad(x_blk, (0, N - len(x_blk)))\n",
        "        X = np.fft.rfft(x_blk_pad, N)\n",
        "        Y_blk = np.fft.irfft(X * H, N)\n",
        "        valid_len = min(N, len(y) - k)\n",
        "        y[k:k+valid_len] += Y_blk[:valid_len]\n",
        "    return y\n",
        "\n",
        "def overlap_save(x, h, L):\n",
        "    M = len(h)\n",
        "    N = nextpow2(L + M - 1)\n",
        "    H = np.fft.rfft(h, N)\n",
        "    x_padded = np.concatenate([np.zeros(M-1, dtype=x.dtype), x])\n",
        "    y_list = []\n",
        "    for k in range(0, len(x), L):\n",
        "        x_blk = x_padded[k:k+N]\n",
        "        if len(x_blk) < N:\n",
        "            x_blk = np.pad(x_blk, (0, N - len(x_blk)))\n",
        "        X = np.fft.rfft(x_blk, N)\n",
        "        Y_blk = np.fft.irfft(X * H, N)\n",
        "        y_list.append(Y_blk[M-1:M-1+L]) #只保留L點\n",
        "    return np.concatenate(y_list)[:len(x)+M-1]"
      ],
      "metadata": {
        "id": "rsDLrSc0lLBA"
      },
      "execution_count": 11,
      "outputs": []
    },
    {
      "cell_type": "code",
      "source": [
        "\"\"\"Apply these methods to a real-world audio signal.\"\"\"\n",
        "from google.colab import drive\n",
        "drive.mount('/content/drive')\n",
        "wav_path = '/content/drive/MyDrive/DSP2025 Homework 7/seashell.wav'\n",
        "sr, x = wav.read(wav_path)\n",
        "print('Sample rate:', sr)\n",
        "print('Shape:', x.shape, 'Dtype:', x.dtype)"
      ],
      "metadata": {
        "colab": {
          "base_uri": "https://localhost:8080/"
        },
        "id": "DSozvdvhO-N4",
        "outputId": "8a74e65d-433d-4650-93cd-1b0bdc965790"
      },
      "execution_count": 12,
      "outputs": [
        {
          "output_type": "stream",
          "name": "stdout",
          "text": [
            "Drive already mounted at /content/drive; to attempt to forcibly remount, call drive.mount(\"/content/drive\", force_remount=True).\n",
            "Sample rate: 24000\n",
            "Shape: (198144, 2) Dtype: int16\n"
          ]
        }
      ]
    },
    {
      "cell_type": "code",
      "source": [
        "# 高通濾波器\n",
        "h_hp = np.array([1, -1], dtype=np.float32)\n",
        "# 低通濾波器\n",
        "h_lp = np.array([1, 1, 1, 1, 1], dtype=np.float32)\n",
        "#只要 x 是雙聲道（shape[1]==2），記得選單聲道\n",
        "if x.ndim == 2:\n",
        "    x = x[:, 0]\n",
        "#轉 float32 並正規化 [-1, 1]\n",
        "x = x.astype(np.float32) / np.iinfo(x.dtype).max"
      ],
      "metadata": {
        "id": "gaQTm6FMMIna"
      },
      "execution_count": 13,
      "outputs": []
    },
    {
      "cell_type": "code",
      "source": [
        "\"\"\"Verify the correctness of your implementations against a standard convolution\n",
        "function.\"\"\"\n",
        "#setting Block Size L\n",
        "L = 2048\n",
        "#A simple high-pass filter:\n",
        "y_ola_hp = overlap_add (x, h_hp, L)\n",
        "y_ols_hp = overlap_save(x, h_hp, L)\n",
        "y_ref_hp = np.convolve(x, h_hp, mode='full')\n",
        "\n",
        "#A simple low-pass filter:\n",
        "y_ola_lp = overlap_add (x, h_lp, L)\n",
        "y_ols_lp = overlap_save(x, h_lp, L)\n",
        "y_ref_lp = np.convolve(x, h_lp, mode='full')"
      ],
      "metadata": {
        "id": "SARfrV_gO1xT"
      },
      "execution_count": 14,
      "outputs": []
    },
    {
      "cell_type": "code",
      "source": [
        "def verify(tag, y_ola, y_ols, y_ref):\n",
        "    print(f\"\\n=== {tag} ===\")\n",
        "    # (a) lengths\n",
        "    print(\"lengths:\", len(y_ola), len(y_ols), len(y_ref))\n",
        "    # (b) allclose\n",
        "    print(\"OLA allclose:\", np.allclose(y_ola, y_ref, atol=1e-5))\n",
        "    print(\"OLS allclose:\", np.allclose(y_ols, y_ref, atol=1e-5))\n",
        "    # (c) maximum absolute difference\n",
        "    print(\"OLA max |Δ| :\", np.max(np.abs(y_ola - y_ref)))\n",
        "    print(\"OLS max |Δ| :\", np.max(np.abs(y_ols - y_ref)))\n",
        "\n",
        "verify(\"High-pass\", y_ola_hp, y_ols_hp, y_ref_hp)\n",
        "verify(\"Low-pass \", y_ola_lp, y_ols_lp, y_ref_lp)"
      ],
      "metadata": {
        "id": "_D1w_GjLNWSS",
        "colab": {
          "base_uri": "https://localhost:8080/"
        },
        "outputId": "35884eed-0a34-4ad4-fff0-e3bbc2783ff3"
      },
      "execution_count": 15,
      "outputs": [
        {
          "output_type": "stream",
          "name": "stdout",
          "text": [
            "\n",
            "=== High-pass ===\n",
            "lengths: 198145 198145 198145\n",
            "OLA allclose: True\n",
            "OLS allclose: True\n",
            "OLA max |Δ| : 8.940697e-08\n",
            "OLS max |Δ| : 5.9604645e-08\n",
            "\n",
            "=== Low-pass  ===\n",
            "lengths: 198148 198148 198148\n",
            "OLA allclose: True\n",
            "OLS allclose: True\n",
            "OLA max |Δ| : 7.4505806e-08\n",
            "OLS max |Δ| : 7.0780516e-08\n"
          ]
        }
      ]
    },
    {
      "cell_type": "code",
      "source": [
        "\"\"\"Compare the execution time of your overlap_add, overlap_save,\n",
        "and np.convolve(x, h, mode='full') with various Signal\n",
        "Length, Filter Length, and Block Size. (You can define a random signal for this\n",
        "task.)\"\"\"\n",
        "#隨機訊號\n",
        "x = np.random.randn(2**18).astype(np.float32)\n",
        "h = np.random.randn(513).astype(np.float32)\n",
        "L = 2048"
      ],
      "metadata": {
        "id": "34fAx1gLRKW4"
      },
      "execution_count": 17,
      "outputs": []
    },
    {
      "cell_type": "code",
      "source": [
        "#計時器\n",
        "def bench(func, *args):\n",
        "    t0 = time.perf_counter()\n",
        "    func(*args)\n",
        "    t1 = time.perf_counter()\n",
        "    return t1 - t0\n",
        "print(\"overlap_add:\", bench(overlap_add, x, h, L), \"s\")\n",
        "print(\"overlap_save:\", bench(overlap_save, x, h, L), \"s\")\n",
        "print(\"np.convolve:\", bench(np.convolve, x, h, 'full'), \"s\")"
      ],
      "metadata": {
        "colab": {
          "base_uri": "https://localhost:8080/"
        },
        "id": "n7DSPA3WT06m",
        "outputId": "810c69a7-971d-4c32-811a-039128240dc7"
      },
      "execution_count": 19,
      "outputs": [
        {
          "output_type": "stream",
          "name": "stdout",
          "text": [
            "overlap_add: 0.024963641999875108 s\n",
            "overlap_save: 0.01623768299987205 s\n",
            "np.convolve: 0.016189416999623063 s\n"
          ]
        }
      ]
    },
    {
      "cell_type": "code",
      "source": [
        "#various Signal Length, Filter Length, and Block Size\n",
        "results = []\n",
        "for L in [256, 512, 1024, 2048, 4096, 8192]:\n",
        "    t_ola = bench(overlap_add, x, h, L)\n",
        "    t_ols = bench(overlap_save, x, h, L)\n",
        "    t_np  = bench(np.convolve, x, h, 'full')\n",
        "    results.append((L, t_ola, t_ols, t_np))\n",
        "for L, t_ola, t_ols, t_np in results:\n",
        "    print(f\"L={L}: OLA={t_ola:.4f}s, OLS={t_ols:.4f}s, np={t_np:.4f}s\")\n"
      ],
      "metadata": {
        "colab": {
          "base_uri": "https://localhost:8080/"
        },
        "id": "-ffwzvYUT-W_",
        "outputId": "00b7bb91-84ad-46be-85c3-d752bdad8acb"
      },
      "execution_count": 20,
      "outputs": [
        {
          "output_type": "stream",
          "name": "stdout",
          "text": [
            "L=256: OLA=0.0903s, OLS=0.0511s, np=0.0153s\n",
            "L=512: OLA=0.0602s, OLS=0.0412s, np=0.0354s\n",
            "L=1024: OLA=0.0946s, OLS=0.0314s, np=0.0234s\n",
            "L=2048: OLA=0.0571s, OLS=0.0286s, np=0.0247s\n",
            "L=4096: OLA=0.0322s, OLS=0.0264s, np=0.0217s\n",
            "L=8192: OLA=0.0276s, OLS=0.0289s, np=0.0241s\n"
          ]
        }
      ]
    },
    {
      "cell_type": "code",
      "source": [
        "\"\"\"bonus2\"\"\"\n",
        "def nextpow2(n):\n",
        "    return 1 << (n-1).bit_length()\n",
        "\n",
        "def overlap_add(x, h, L):\n",
        "    M = len(h)\n",
        "    N = nextpow2(L + M - 1)\n",
        "    H = np.fft.rfft(h, N)\n",
        "    y = np.zeros(len(x) + M - 1, dtype=np.float32)\n",
        "    for k in range(0, len(x), L):\n",
        "        x_blk = x[k:k+L]\n",
        "        x_blk_pad = np.pad(x_blk, (0, N - len(x_blk)))\n",
        "        X = np.fft.rfft(x_blk_pad, N)\n",
        "        Y_blk = np.fft.irfft(X * H, N)\n",
        "        valid_len = min(N, len(y) - k)\n",
        "        y[k:k+valid_len] += Y_blk[:valid_len]\n",
        "    return y[:len(x) + M - 1]\n",
        "\n",
        "def overlap_save(x, h, L):\n",
        "    M = len(h)\n",
        "    N = nextpow2(L + M - 1)\n",
        "    H = np.fft.rfft(h, N)\n",
        "\n",
        "    x_padded = np.concatenate([np.zeros(M-1, dtype=x.dtype), x])\n",
        "\n",
        "    y_list = []\n",
        "    for k in range(0, len(x) + M - 1, L):\n",
        "        x_blk = x_padded[k:k+N]\n",
        "        if len(x_blk) < N:\n",
        "            x_blk = np.pad(x_blk, (0, N-len(x_blk)))\n",
        "        X = np.fft.rfft(x_blk, N)\n",
        "        Y_blk = np.fft.irfft(X * H, N)\n",
        "        y_list.append(Y_blk[M-1:M-1+L])\n",
        "\n",
        "\n",
        "    return np.concatenate(y_list)[:len(x) + M - 1]\n",
        "\n",
        "x = np.random.randn(2**18).astype(np.float32)\n",
        "\n",
        "# (A) 超長全1濾波器\n",
        "h_long = np.ones(2048, dtype=np.float32) / 2048\n",
        "\n",
        "# (B) Hamming窗低通FIR（101點, 通帶0.2 pi）\n",
        "h_hamming = firwin(101, cutoff=0.2, window='hamming')\n",
        "\n",
        "def bench(func, *args):\n",
        "    t0 = time.perf_counter()\n",
        "    func(*args)\n",
        "    t1 = time.perf_counter()\n",
        "    return t1 - t0\n",
        "    L = 2048  # Block Size\n",
        "\n",
        "for h, tag in [(h_long, \"all-ones(2048)\"), (h_hamming, \"hamming(101)\")]:\n",
        "    t_ola = bench(overlap_add, x, h, L)\n",
        "    t_ols = bench(overlap_save, x, h, L)\n",
        "    t_np  = bench(np.convolve, x, h, 'full')\n",
        "    y_ola = overlap_add(x, h, L)\n",
        "    y_ols = overlap_save(x, h, L)\n",
        "    y_ref = np.convolve(x, h, 'full')\n",
        "    print(f\"\\n[{tag}]\")\n",
        "    print(f\"OLA: {t_ola:.4f}s, OLS: {t_ols:.4f}s, np: {t_np:.4f}s\")\n",
        "    print(\"y_ola\", len(y_ola), \"y_ols\", len(y_ols), \"y_ref\", len(y_ref))\n",
        "    print(\"OLA allclose:\", np.allclose(y_ola, y_ref, atol=1e-5))\n",
        "    print(\"OLS allclose:\", np.allclose(y_ols, y_ref, atol=1e-5))"
      ],
      "metadata": {
        "colab": {
          "base_uri": "https://localhost:8080/"
        },
        "id": "XQ9XFCugaYcn",
        "outputId": "5ff00e04-bc7a-481e-a0e0-1644ec8cf25a"
      },
      "execution_count": 38,
      "outputs": [
        {
          "output_type": "stream",
          "name": "stdout",
          "text": [
            "\n",
            "[all-ones(2048)]\n",
            "OLA: 0.0228s, OLS: 0.0156s, np: 0.0531s\n",
            "y_ola 264191 y_ols 264191 y_ref 264191\n",
            "OLA allclose: True\n",
            "OLS allclose: True\n",
            "\n",
            "[hamming(101)]\n",
            "OLA: 0.0214s, OLS: 0.0183s, np: 0.0112s\n",
            "y_ola 262244 y_ols 262244 y_ref 262244\n",
            "OLA allclose: True\n",
            "OLS allclose: True\n"
          ]
        }
      ]
    }
  ]
}